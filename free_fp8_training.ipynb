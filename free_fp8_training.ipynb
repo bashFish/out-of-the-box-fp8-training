{
 "cells": [
  {
   "cell_type": "markdown",
   "metadata": {},
   "source": [
    "# Free FP8 training with unit scaling\n",
    "\n",
    "Zero-effort, zero-cost FP8 training using the `unit_scaling` library.\n",
    "\n",
    "💻 **Use the library**: [graphcore-research.github.io/unit-scaling](https://graphcore-research.github.io/unit-scaling/)\n",
    "\n",
    "📖 **Read the paper**: [arxiv.org/abs/2303.11257](https://arxiv.org/abs/2303.11257)"
   ]
  },
  {
   "attachments": {},
   "cell_type": "markdown",
   "metadata": {},
   "source": [
    "## TL;DR\n",
    "\n",
    "Naïvely casting to FP8 causes training to fail as some values go out-of-range.\n",
    "This can be easily fixed by using\n",
    "[unit-scaled](https://graphcore-research.github.io/unit-scaling/) layers:"
   ]
  },
  {
   "cell_type": "code",
   "execution_count": null,
   "metadata": {},
   "outputs": [],
   "source": [
    "from notebook_utils import config, train\n",
    "from nanoGPT.model import GPT\n",
    "from unit_scaling.transforms import simulate_fp8, unit_scale\n",
    "\n",
    "gpt = GPT(config)  # model unchanged from original nanoGPT\n",
    "fp8_gpt = simulate_fp8(gpt)\n",
    "unit_scaled_fp8_gpt = unit_scale(fp8_gpt)\n",
    "\n",
    "models = [gpt, fp8_gpt, unit_scaled_fp8_gpt]\n",
    "for model in models:\n",
    "    train(model)"
   ]
  }
 ],
 "metadata": {
  "kernelspec": {
   "display_name": ".venv",
   "language": "python",
   "name": "python3"
  },
  "language_info": {
   "codemirror_mode": {
    "name": "ipython",
    "version": 3
   },
   "file_extension": ".py",
   "mimetype": "text/x-python",
   "name": "python",
   "nbconvert_exporter": "python",
   "pygments_lexer": "ipython3",
   "version": "3.8.9"
  },
  "orig_nbformat": 4
 },
 "nbformat": 4,
 "nbformat_minor": 2
}
