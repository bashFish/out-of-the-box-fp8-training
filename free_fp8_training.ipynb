{
 "cells": [
  {
   "cell_type": "markdown",
   "metadata": {},
   "source": [
    "# Free FP8 training with unit scaling\n",
    "\n",
    "Zero-effort, zero-cost FP8 training using the `unit_scaling` library.\n",
    "\n",
    "💻 **Use the library**: [graphcore-research.github.io/unit-scaling](https://graphcore-research.github.io/unit-scaling/)\n",
    "\n",
    "📖 **Read the paper**: [arxiv.org/abs/2303.11257](https://arxiv.org/abs/2303.11257)"
   ]
  },
  {
   "attachments": {},
   "cell_type": "markdown",
   "metadata": {},
   "source": [
    "## TL;DR\n",
    "\n",
    "Naïvely casting to FP8 causes training to fail as some values are out-of-range.\n",
    "This can be easily fixed by using\n",
    "[unit-scaled](https://graphcore-research.github.io/unit-scaling/) layers:"
   ]
  },
  {
   "cell_type": "code",
   "execution_count": 1,
   "metadata": {},
   "outputs": [
    {
     "name": "stdout",
     "output_type": "stream",
     "text": [
      "{'out_dir': 'out-shakespeare-char', 'eval_interval': 250, 'eval_iters': 200, 'log_interval': 10, 'always_save_checkpoint': False, 'wandb_log': False, 'wandb_project': 'shakespeare-char', 'wandb_run_name': 'mini-gpt', 'dataset': 'shakespeare_char', 'gradient_accumulation_steps': 1, 'batch_size': 64, 'block_size': 256, 'n_layer': 6, 'n_head': 6, 'n_embd': 384, 'dropout': 0.2, 'learning_rate': 0.001, 'max_iters': 5000, 'lr_decay_iters': 5000, 'min_lr': 0.0001, 'beta2': 0.99, 'warmup_iters': 100}\n",
      "GPTConfig(block_size=256, vocab_size=65, n_layer=6, n_head=6, n_embd=384, dropout=0.2, bias=True)\n",
      "number of parameters: 10.67M\n"
     ]
    }
   ],
   "source": [
    "from notebook_utils import config, train\n",
    "from nanoGPT.model import GPT\n",
    "from unit_scaling.transforms import simulate_fp8, unit_scale\n",
    "\n",
    "gpt = GPT(config)\n",
    "fp8_gpt = simulate_fp8(gpt)\n",
    "unit_scaled_fp8_gpt = unit_scale(fp8_gpt)\n",
    "\n",
    "models = [gpt, fp8_gpt, unit_scaled_fp8_gpt]\n",
    "for model in models:\n",
    "    train(model)"
   ]
  },
  {
   "cell_type": "markdown",
   "metadata": {},
   "source": []
  }
 ],
 "metadata": {
  "kernelspec": {
   "display_name": ".venv",
   "language": "python",
   "name": "python3"
  },
  "language_info": {
   "codemirror_mode": {
    "name": "ipython",
    "version": 3
   },
   "file_extension": ".py",
   "mimetype": "text/x-python",
   "name": "python",
   "nbconvert_exporter": "python",
   "pygments_lexer": "ipython3",
   "version": "3.8.9"
  },
  "orig_nbformat": 4
 },
 "nbformat": 4,
 "nbformat_minor": 2
}
