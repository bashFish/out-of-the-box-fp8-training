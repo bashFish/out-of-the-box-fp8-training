{
 "cells": [
  {
   "cell_type": "code",
   "execution_count": 2,
   "id": "0ccc6443-010e-425c-8f0f-706d6c58beea",
   "metadata": {},
   "outputs": [],
   "source": [
    "# Preamble\n",
    "import torch\n",
    "import numpy as np\n",
    "import matplotlib.pyplot as plt\n",
    "import seaborn as sns\n",
    "sns.set_context(\"notebook\")"
   ]
  },
  {
   "cell_type": "markdown",
   "id": "fe5337da-fe0e-4358-9c41-065823fc62b1",
   "metadata": {},
   "source": [
    "# Almost-scaled dot product attention\n",
    "\n",
    "The transformer model architecture is ubiquitous, but we don't fully understand how it works, or what makes it so effective. At the heart of the transformer is scaled dot product attention. While working on [Unit Scaling](https://arxiv.org/abs/2303.11257), we noticed something interesting:\n",
    "\n",
    "Many deep learning modules are designed and initialised to roughly preserve variance in the forward and/or backward (gradient) passes. Dot product [attention](https://arxiv.org/abs/1706.03762) explicitly includes a scaling factor for this (it's $\\sqrt{1/d_h}$ if you're already familiar, but we'll explain this as we go.) But this is **not enough for attention to preserve variance**. Let's see what is.\n",
    "\n",
    "In this post, we'll pick apart the scaling behaviour of attention, and propose a new scaling factor. Here's what to expect:\n",
    "\n",
    "1. [Hey attention, how's scaling?](#1.-Hey-attention,-how's-scaling?)\n",
    "2. [Attention: flat, spiky or LogNormal.](#2.-Attention:-flat,-spiky-or-LogNormal.)\n",
    "3. [Fully-scaled dot product self attention](#3.-Fully-scaled-dot-product-attention)\n",
    "4. [Properly scaled, properly broken.](#4.-Properly-scaled,-properly-broken.)\n",
    "5. [What did I learn?](#5.-What-did-I-learn?)\n",
    "\n",
    "This is a long-ish, somewhat mathsy article, so if you want to skip to the answer, that's part [3](#3.-Fully-scaled-dot-product-attention), but make sure you read why you shouldn't use it in part [4](#4.-Properly-scaled,-properly-broken.), before blaming us."
   ]
  },
  {
   "cell_type": "markdown",
   "id": "ea6c2c9a-73b0-4b93-a7ad-aa314efe52e1",
   "metadata": {
    "tags": []
   },
   "source": [
    "---\n",
    "\n",
    "## 1. Hey attention, how's scaling?\n",
    "\n",
    "Here's an expression for non-causal scaled dot product attention (the core, excluding input and output projections):\n",
    "\n",
    "$O = \\mathrm{Attention}(Q, K, V) \\;\\textrm{where}\\; \\{Q,K,V,O\\} \\in \\mathcal{R}^{d_s \\times d_h}$\n",
    "\n",
    "defined as:\n",
    "\n",
    "$A^{\\prime} = Q K^T \\cdot d_h^{-1/2}$\n",
    "\n",
    "$O = \\mathrm{Softmax}(A^{\\prime})\\, V$\n",
    "\n",
    "Here $Q$, $K$ and $V$ are _queries_, _keys_ and _values_ derived from the input, $d_h$ is the _head size_, and $d_s$ the _sequence length_. We use $A^{\\prime}$ for the pre-softmax attention scores matrix. Let's see how well it preserves standard deviation, which we'll refer to as **scale**."
   ]
  },
  {
   "cell_type": "code",
   "execution_count": 3,
   "id": "fdfbf649-6281-4b50-b65b-4af828024f67",
   "metadata": {},
   "outputs": [
    {
     "name": "stdout",
     "output_type": "stream",
     "text": [
      "       q:  μ= 0.000, σ=1.000\n",
      "       k:  μ=-0.000, σ=1.000\n",
      "       v:  μ=-0.000, σ=1.000\n",
      "\n",
      "   pre_a:  μ=-0.000, σ=1.000\n",
      "       a:  μ= 0.004, σ=0.005\n",
      "     out:  μ=-0.000, σ=0.102\n"
     ]
    }
   ],
   "source": [
    "sequence_length = 256  # d_s\n",
    "head_size = 64         # d_h\n",
    "n_heads = 2\n",
    "batch_size = 512\n",
    "\n",
    "q, k, v = torch.randn(3, batch_size, n_heads, sequence_length, head_size)\n",
    "\n",
    "pre_a = q @ k.transpose(2, 3) * (head_size ** -0.5)  # 1. Scaled QK matmul\n",
    "a = torch.softmax(pre_a, dim=-1)                     # 2. Softmax\n",
    "out = a @ v                                          # 3. AV matmul\n",
    "\n",
    "for name in [\"q\", \"k\", \"v\", \"\", \"pre_a\", \"a\", \"out\"]:\n",
    "    if not name: print(); continue\n",
    "    var = globals()[name]\n",
    "    print(f\"{name:>8}:  μ={var.mean():>6.3f}, σ={var.std():.3f}\")"
   ]
  },
  {
   "cell_type": "markdown",
   "id": "fac5cbcd-41b7-4a9d-a08a-17814e2fb7ca",
   "metadata": {},
   "source": [
    "This code generates unit-normal inputs $Q, K, V$ to attention, then prints the mean and scale of intermediate and output tensors $A^{\\prime}, A \\,(=\\!\\mathrm{Softmax}(A^{\\prime})), O$.\n",
    "\n",
    "**Step 1 is to compute $Q K^T \\cdot d_h^{-1/2}$.**\n",
    "\n",
    "Here, the scaling factor $d_h^{-1/2}$ is carefully chosen to cancel out an increased scale from the sum of uncorrelated values. Since $\\mathbb{E}(Q_{ij} K_{kj}) = 0$ and $\\mathbb{E}((Q_{ij} K_{kj})^2) = 1$, the central limit theorem gives $\\mathbb{E}((Q K^T)^2) = d_h$. Therefore to keep unit scale, we must multiply by $d_h^{-1/2}$. This ensures that $A^{\\prime}$ (`pre_a`), is approximately unit scale.\n",
    "\n",
    "**Step 2 is softmax over the sequence length.**\n",
    "\n",
    "Note that the softmax itself cannot preserve unit scale, since the outputs are in the range $[0, 1]$; the highest possible scale would be 1/2. It also cannot ensure zero mean, since it sums to 1 over the target sequence dimension $d_s$, so $\\mathbb{E}(A) = d_s^{-1}$.\n",
    "\n",
    "**Step 3 is to use the attention matrix $A$ to mix the values $V$.**\n",
    "\n",
    "Following the method of step 1, _if_ the inputs were both zero-mean, unit-scale, we would expect to multiply by $d_s^{-1/2}$ to retain unit scale. However, as we saw in step 2, the $A$ matrix is far from satisfying this assumption. In the example above, this means $O$ (`out`) has a low scale ~0.1, so multiplying by $d_s^{-1/2}$ would move it in entirely the wrong direction.\n",
    "\n",
    "**To summarise,** although scaled dot product attention includes a scaling factor, it does not deal with all of the scaling behaviour: **attention outputs are under-scaled**."
   ]
  },
  {
   "cell_type": "markdown",
   "id": "41d2e717-1772-4f22-9ef0-d301e143157a",
   "metadata": {
    "tags": []
   },
   "source": [
    "---\n",
    "\n",
    "## 2. Attention: flat, spiky or LogNormal.\n",
    "\n",
    "In this section, we'll try to explain why $O$ is under-scaled in standard attention. We'll first introduce a temperature $t$ into the softmax, as it gives two extreme cases that are a bit simpler to follow, before tackling the more difficult $t=1$ case.\n",
    "\n",
    "For $x \\in \\mathcal{R}^{d_s}$, define $\\mathrm{Softmax}(x, t)_i = e^{x_i / t} \\,/ \\sum_j{e^{x_j/t}}$.\n",
    "\n",
    "---\n",
    "\n",
    "**2.1 In the extreme $t\\to\\infty$**, we get $\\mathrm{Softmax}(x, t)_i = d_s^{-1}$, which is a flat distribution over attention keys.\n",
    "\n",
    "Plugging this into attention, we'd expect $\\mathbb{E}((A_{ij} V_{jk})^2) = d_s^{-2}$, so $\\mathbb{E}((A V)^2) = d_s^{-1}$. Overall, we'd expect $t\\to\\infty$ attention to have output scale $d_s^{-1/2}$, i.e."
   ]
  },
  {
   "cell_type": "code",
   "execution_count": 4,
   "id": "75f5acb4-8fe0-4432-800f-fafaf0f0cd7c",
   "metadata": {},
   "outputs": [
    {
     "data": {
      "text/plain": [
       "0.0625"
      ]
     },
     "execution_count": 4,
     "metadata": {},
     "output_type": "execute_result"
    }
   ],
   "source": [
    "sequence_length ** -0.5"
   ]
  },
  {
   "cell_type": "markdown",
   "id": "c92eb585-0343-4726-a96c-790241b362bd",
   "metadata": {},
   "source": [
    "This is quite close to 0.1, observed above.\n",
    "\n",
    "---\n",
    "\n",
    "**2.2 In the extreme $t\\to 0$**, we get $\\mathrm{Softmax}(x, t)_i = \\mathbb{I}(x_i\\!==\\!\\mathrm{Max}(x))$, which is a unit \"spike\" on the maximum value of $x$. Since $A$ and $V$ are uncorrelated, the matrix multiplication $A V$ then selects a random value from $V$, therefore $\\mathbb{E}((A V)^2) = 1$. Therefore, we'd expect $t\\to 0$ attention to have output scale $1$.\n",
    "\n",
    "---\n",
    "\n",
    "**2.3 Otherwise**, start by assuming that the values going into the softmax are normally distributed, with scale $1/t$. Then, we rewrite softmax as $\\mathrm{Softmax}(x)_i = e^{x_i - \\log\\sum_j{e^{x_j}}}$. Now we treat the log-sum-exp term as a constant, and will later ensure that the softmax is _normalised in expectation_, so we can say:\n",
    "\n",
    "$A = e^{A^{\\prime}},\\; A^{\\prime} \\sim N(\\mu, t^{-2})$\n",
    "\n",
    "$A$ therefore follows a LogNormal distribution, Given the normalisation-in-expectation constraint $\\mathbb{E}(A)=d_s^{-1}$, we can solve for the unknown $\\mu$, giving:\n",
    "\n",
    "$A \\sim \\mathrm{LogNormal}(-\\ln(d_s) - \\frac{1}{2}\\, t^{-2}, t^{-2})$.\n",
    "\n",
    "Since we assume $A$ and $V$ are independent, $\\mathbb{E}(A_{ij} V_{jk}) = \\mathbb{E}(A)\\, \\mathbb{E}(V) = 0$.\n",
    "\n",
    "Also, $\\mathbb{E}((A_{ij} V_{jk})^2) = \\mathbb{E}(A^2)\\, \\mathbb{E}(V^2) = e^{2\\mu + 2\\sigma^2} = d_s^{-2}\\,e^{t^{-2}}$, so $\\mathbb{E}((A V)^2) = d_s^{-1}\\,e^{t^{-2}}$.\n",
    "\n",
    "This predicts an output scale of $d_s^{-1/2}\\,e^{t^{-2}/2}$.\n",
    "\n",
    "---\n",
    "\n",
    "**Quick check**\n",
    "\n",
    "Now let's see if these rules work, for $\\mathrm{Softmax}(A^{\\prime} V)$, in isolation:"
   ]
  },
  {
   "cell_type": "code",
   "execution_count": 5,
   "id": "98805af9-6995-4d8e-aa74-38519e4cebe6",
   "metadata": {},
   "outputs": [],
   "source": [
    "def empirical_softmax_std_scaling(sequence_length: int, temperature: float, nelement: int = int(1e7)) -> float:\n",
    "    pre_a = torch.randn(nelement // sequence_length, sequence_length)\n",
    "    v = torch.randn(nelement // sequence_length, sequence_length)\n",
    "    out = (torch.softmax(pre_a / temperature, -1) * v).sum(-1)\n",
    "    return out.std()\n",
    "\n",
    "def lognormal_softmax_std_scaling(sequence_length: int, temperature: float) -> float:\n",
    "    return torch.minimum(torch.tensor(1), sequence_length ** -0.5 * torch.exp(temperature ** -2 / 2))"
   ]
  },
  {
   "cell_type": "markdown",
   "id": "9fdaed1c-bae0-437d-a2ae-3b6f8f845dc7",
   "metadata": {},
   "source": [
    "Hopefully no surprises in the implementation of the above. Let's see how it works as we vary temperature:"
   ]
  },
  {
   "cell_type": "code",
   "execution_count": 6,
   "id": "3958c20c-d289-473d-981b-0601437be850",
   "metadata": {},
   "outputs": [
    {
     "data": {
      "image/png": "[encoded data removed]",
      "text/plain": [
       "<Figure size 720x432 with 1 Axes>"
      ]
     },
     "metadata": {
      "needs_background": "light"
     },
     "output_type": "display_data"
    }
   ],
   "source": [
    "temperatures = 2 ** torch.arange(-4, 4.01, 0.5)\n",
    "sequence_length = 4096\n",
    "\n",
    "empirical_scaling = [empirical_softmax_std_scaling(sequence_length=sequence_length, temperature=t) for t in temperatures]\n",
    "lognormal_scaling = lognormal_softmax_std_scaling(sequence_length=sequence_length, temperature=temperatures)\n",
    "temperature_inf_scaling = sequence_length ** -0.5\n",
    "temperature_zero_scaling = 1.0\n",
    "\n",
    "plt.figure(figsize=(10, 6)) ; c = iter(sns.color_palette())\n",
    "plt.plot(temperatures, empirical_scaling, color=next(c), label=\"empirical\")\n",
    "plt.plot(temperatures, lognormal_scaling, color=next(c),\n",
    "         linestyle=\"dashed\", label=\"$d_s^{-1/2}\\, e^{t^{-2} / 2}$ (lognormal rule)\")\n",
    "plt.hlines(temperature_inf_scaling, temperatures.min(), temperatures.max(),\n",
    "           color=next(c), linestyle=\"dashed\", label=r\"$d_s^{-1/2}$ ($t\\to\\infty$, flat softmax)\")\n",
    "plt.hlines(temperature_zero_scaling, temperatures.min(), temperatures.max(),\n",
    "           color=next(c), linestyle=\"dashed\", label=r\"$1$ ($t\\to 0$, spiky softmax)\")\n",
    "plt.xscale(\"log\", base=2) ; plt.yscale(\"log\", base=2)\n",
    "plt.xlabel(\"Temperature $t$\") ; plt.ylabel(r\"$\\mathrm{Std}(O)$\")\n",
    "plt.xticks(2**torch.arange(-4, 4.01)) ; plt.legend(loc=\"center left\", bbox_to_anchor=(1.05, 0.5))\n",
    "plt.title(f\"Scaling of: $O = \\mathrm{{Softmax}}(A^{{\\prime}} V)$, $d_s={sequence_length}$\", pad=10);"
   ]
  },
  {
   "cell_type": "markdown",
   "id": "366ad440-4159-4737-a408-4e6254a44bf1",
   "metadata": {},
   "source": [
    "That's not too bad. Our $t\\to\\infty$ and $t\\to 0$ rules give the right asymptotes, and the lognormal rule seems to work OK for $t\\ge\\frac{1}{2}$. We expect the lognormal breakdown is due to the fact that our model only normalises the softmax in expectation, whereas the true softmax will normalise over a finite set of samples.\n",
    "\n",
    "Now we're fully equipped with a scaling model that should let us \"fix\" attention's forward pass."
   ]
  },
  {
   "cell_type": "markdown",
   "id": "9576c733-b0fa-48c1-8dfa-765df9a4c6d9",
   "metadata": {},
   "source": [
    "---\n",
    "\n",
    "# 3. Fully-scaled dot product attention\n",
    "\n",
    "We just saw that the pre-softmax scaling of dot product attention works as expected, but that we need to add an additional post-softmax scale factor if we want to prevent scale from shrinking through attention as a whole. Without a scale factor, we expect unit-scaled inputs to produce outputs of scale $(e/d_s)^{1/2}$.\n",
    "\n",
    "To counteract this, we can modify the scaled attention equation thus:\n",
    "\n",
    "$A^{\\prime} = Q K^T \\cdot d_h^{-1/2}$\n",
    "\n",
    "$O = \\mathrm{Softmax}(A^{\\prime})\\, V \\color{red}{\\cdot (d_s/e)^{1/2}}$\n",
    "\n",
    "Let's implement & sanity-check:"
   ]
  },
  {
   "cell_type": "code",
   "execution_count": 7,
   "id": "0aaf7b9a-a032-4f6a-b312-0fbaf59926bc",
   "metadata": {},
   "outputs": [
    {
     "name": "stdout",
     "output_type": "stream",
     "text": [
      "       q:  μ=-0.000, σ=1.000\n",
      "       k:  μ= 0.000, σ=1.000\n",
      "       v:  μ= 0.000, σ=1.000\n",
      "\n",
      "   pre_a:  μ= 0.000, σ=0.999\n",
      "       a:  μ= 0.004, σ=0.005\n",
      "     out:  μ= 0.001, σ=0.994\n"
     ]
    }
   ],
   "source": [
    "sequence_length = 256  # d_s\n",
    "head_size = 64         # d_h\n",
    "n_heads = 2\n",
    "batch_size = 512\n",
    "\n",
    "q, k, v = torch.randn(3, batch_size, n_heads, sequence_length, head_size)\n",
    "\n",
    "pre_a = q @ k.transpose(2, 3) * (head_size ** -0.5)  # 1. Scaled QK matmul\n",
    "a = torch.softmax(pre_a, dim=-1)                     # 2. Softmax\n",
    "out = a @ v * (sequence_length / np.e) ** 0.5        # 3. Scaled AV matmul (NEW)\n",
    "\n",
    "for name in [\"q\", \"k\", \"v\", \"\", \"pre_a\", \"a\", \"out\"]:\n",
    "    if not name: print(); continue\n",
    "    var = globals()[name]\n",
    "    print(f\"{name:>8}:  μ={var.mean():>6.3f}, σ={var.std():.3f}\")"
   ]
  },
  {
   "cell_type": "markdown",
   "id": "a945200d-f582-4949-b60b-98383c6a5d03",
   "metadata": {},
   "source": [
    "That's grand—as we hoped, `out` is now roughly unit-scale, so we've found a well-scaled attention \"core\", hurrah! Note that causal masking and positional encodings may change the scaling behaviour, but we leave these as an exercise for the reader. You can import PyTorch implementations of this & other scaled ops from our [unit-scaling](https://github.com/graphcore-research/unit-scaling) library."
   ]
  },
  {
   "cell_type": "markdown",
   "id": "f0bf733f-0ce4-42af-bc46-6776c7ebad23",
   "metadata": {},
   "source": [
    "---\n",
    "\n",
    "# 4. Properly scaled, properly broken.\n",
    "\n",
    "Let's see what happens if we optimistically implement this \"improvement\" for the scaling of attention, in a full transformer. To keep things quick and simple, we'll train a small autoregressive byte-level transformer model on the works of Shakespeare.\n",
    "\n",
    "We're also only interested in training dynamics, not whether this change has an impact on generalisation, so our test metric will be final training loss. We'll use a fixed batch size, number of steps and model size, on the assumption that our scaling change should work over similar ranges as the baseline. However, since we have changed the scaling applied to a subset of the model, we will re-sweep learning rate, as the best learning rate may have changed. Note that the code is tucked away inside the companion module `demo_transformer`, feel free to take a look.\n",
    "\n",
    "The results:"
   ]
  },
  {
   "cell_type": "code",
   "execution_count": 18,
   "id": "0de8af3c",
   "metadata": {},
   "outputs": [
    {
     "name": "stderr",
     "output_type": "stream",
     "text": [
      "100%|██████████| 500/500 [00:13<00:00, 36.95it/s]\n",
      "100%|██████████| 500/500 [00:14<00:00, 35.41it/s]\n",
      "100%|██████████| 500/500 [00:14<00:00, 34.73it/s]\n",
      "100%|██████████| 500/500 [00:17<00:00, 27.86it/s]\n",
      "100%|██████████| 500/500 [00:19<00:00, 26.29it/s]\n",
      "100%|██████████| 500/500 [00:14<00:00, 34.25it/s]\n",
      "100%|██████████| 500/500 [00:14<00:00, 34.84it/s]\n",
      "100%|██████████| 500/500 [00:14<00:00, 35.23it/s]\n",
      "100%|██████████| 500/500 [00:21<00:00, 23.72it/s]\n",
      "100%|██████████| 500/500 [00:18<00:00, 27.54it/s]\n"
     ]
    },
    {
     "data": {
      "image/png": "[encoded data removed]",
      "text/plain": [
       "<Figure size 432x288 with 1 Axes>"
      ]
     },
     "metadata": {
      "needs_background": "light"
     },
     "output_type": "display_data"
    }
   ],
   "source": [
    "# !wget https://www.gutenberg.org/cache/epub/100/pg100.txt -O shakespare.txt\n",
    "import demo_transformer\n",
    "\n",
    "def sweep_lr():\n",
    "    for lr in [3e-4, 1e-3, 3e-3, 1e-2, 3e-2]:\n",
    "        demo_transformer.CONFIG.lr = lr\n",
    "        log = demo_transformer.train()\n",
    "        yield dict(lr=lr, loss=float(log[-20:].mean()))\n",
    "\n",
    "demo_transformer.CONFIG.fully_scaled_attention = False\n",
    "baseline_results = list(sweep_lr())\n",
    "demo_transformer.CONFIG.fully_scaled_attention = True\n",
    "scaled_results = list(sweep_lr())\n",
    "\n",
    "for name, data in {\"baseline\": baseline_results, \"fully scaled\": scaled_results}.items():\n",
    "    plt.plot([d[\"lr\"] for d in data], [d[\"loss\"] for d in data], label=name)\n",
    "plt.xscale(\"log\") ; plt.legend() ; plt.xlabel(\"Learning rate\") ; plt.ylabel(\"Final training loss\");"
   ]
  },
  {
   "cell_type": "markdown",
   "id": "943997e4",
   "metadata": {},
   "source": [
    "Awkwardly, fully scaled attention seems worse than the original (under-scaled) baseline.\n",
    "\n",
    "We haven't reached a full understanding of this effect, but it appears that fully-scaled attention cannot tolerate such a high learning rate as the baseline. This seems plausible, and would imply that the learning dynamics of the attention parameters are less stable (in some sense) than those of the feed-forward layers. Altogether, it's intriguing that the happy conincidence of an under-scaled attention definition has this beneficial impact on training.\n",
    "\n",
    "> Since unit scaling requires that we get rid of these implicit scaling rules, and keep everything well-scaled, it offers another solution to this problem: to introduce a residual weight when adding the contribution of the attention module to the skip connection from the previous layer. This can be made to have exactly the same effect as the implicit baseline scaling, while keeping intermediate tensors close to unit scale. (It's also the reason we noticed this interesting property of standard attention layers in transformer models.)"
   ]
  },
  {
   "cell_type": "markdown",
   "id": "d79f3863",
   "metadata": {},
   "source": [
    "---\n",
    "\n",
    "# 5. What did I learn?\n",
    "\n",
    "We started by asking the question \"why doesn't self-attention preserve unit scale\", which took us on a (hopefully stimulating) journey via the LogNormal distribution to a new definition for _fully-scaled dot product attention_. Here it is:\n",
    "\n",
    "$A^{\\prime} = Q K^T \\cdot d_h^{-1/2}$\n",
    "\n",
    "$O = \\mathrm{Softmax}(A^{\\prime})\\, V \\color{red}{\\cdot (d_s/e)^{1/2}}$\n",
    "\n",
    "Excitingly, this seemed to do fix the scales, as we'd hoped. Less exciting, but equally interesting: this change seemed to hurt the convergence of an autoregressive transformer model. More work is needed to understand why, but it seems to be connected to a lower maximum learning rate that is tolerated when the weighting of self-attention layers is increased. So, training stability may be improved when the weighting of the pointwise FFN layers (in terms of activation scale) is larger than that of the attention layers.\n",
    "\n",
    "We'll leave it there for today; may your transformations preserve scale and may your learning dynamics remain stable. If this has piqued your interest, why not take a look at [Unit Scaling](https://arxiv.org/abs/2303.11257) (as a special treat, there's even a nice big table of scaling factors in the Appendix.)"
   ]
  }
 ],
 "metadata": {
  "kernelspec": {
   "display_name": "Python 3",
   "language": "python",
   "name": "python3"
  },
  "language_info": {
   "codemirror_mode": {
    "name": "ipython",
    "version": 3
   },
   "file_extension": ".py",
   "mimetype": "text/x-python",
   "name": "python",
   "nbconvert_exporter": "python",
   "pygments_lexer": "ipython3",
   "version": "3.6.9"
  }
 },
 "nbformat": 4,
 "nbformat_minor": 5
}
